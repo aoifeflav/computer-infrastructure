{
 "cells": [
  {
   "cell_type": "markdown",
   "metadata": {},
   "source": [
    "# Task 8: Weather Analysis\n",
    "### Author: Aoife Flavin\n",
    "\n",
    "The purpose of this notebook is to explain how I completed Tasks 1-7 of the weekly tasks assigned to me in the Module Computer Infrastructure, in Semester 2 of the Higher Diploma in Data Analytics at ATU.\n",
    "\n",
    "In the second half of this notebook I will use Pandas to read and analyse a file that previousl created during the module which contains weather data for Athenry."
   ]
  },
  {
   "cell_type": "markdown",
   "metadata": {},
   "source": [
    "## Part 1: Task Description"
   ]
  },
  {
   "cell_type": "markdown",
   "metadata": {},
   "source": [
    "#### Task 1: Create Directory Structure\n",
    "*Using the command line, create a directory (that is, a folder) named data at the root of your repository. Inside data, create two subdirectories: timestamps and weather.*\n",
    "\n",
    "To complete the first task I began by opening the root of my repository on GitHub Codespaces I then performed the following tasks in the command line:\n",
    "\n",
    "```\n",
    "mkdir data\n",
    "```\n",
    "This creates a data directory\n",
    "\n",
    "\n",
    "```\n",
    "cd data\n",
    "```\n",
    "Navigate to data directory\n",
    "\n",
    "```\n",
    "mkdir timestamps\n",
    "```\n",
    "Creates the timestamps directory\n",
    "\n",
    "```\n",
    "mkdir weather\n",
    "```\n",
    "Creates the weather directory\n",
    "\n",
    "```\n",
    "cd timestamps\n",
    "```\n",
    "Navigates to the timestamps directory\n",
    "\n",
    "```\n",
    "touch testing.txt\n",
    "```\n",
    "Creates an empty text file in the time stamps directory. This is done because you cannot push an empty directory to GitHub.\n",
    "\n",
    "```\n",
    "cd ..\n",
    "\n",
    "cd weather\n",
    "```\n",
    "Navigate to weather directory\n",
    "\n",
    "```\n",
    "touch testing.txt\n",
    "```\n",
    "Creates an empty text file in the weather directory"
   ]
  },
  {
   "cell_type": "markdown",
   "metadata": {},
   "source": [
    "#### Task 2: Timestamps\n",
    "*Navigate to the data/timestamps directory. Use the date command to output the current date and time, appending the output to a file named now.txt. Make sure to use the >> operator to append (not overwrite) the file. Repeat this step ten times, then use the more command to verify that now.txt has the expected content.*\n",
    "\n",
    "To complete the second task I began by opening the root of my repository on GitHub Codespaces I then performed the following tasks in the command line:\n",
    "\n",
    "```\n",
    "cd data/timestamps\n",
    "```\n",
    "Navigate to the timestamps directory\n",
    "\n",
    "```\n",
    "date >> now.txt\n",
    "```\n",
    "This creates the file now.txt and appends the current date and time to the text file. I ran this 10 times.\n",
    "\n",
    "```\n",
    "more now.txt\n",
    "```\n",
    "I then used the 'more' command to view the contents of now.txt\n"
   ]
  },
  {
   "cell_type": "markdown",
   "metadata": {},
   "source": [
    "#### Task 3: Formatting Timestamps\n",
    "*Run the date command again, but this time format the output using YYYYmmdd_HHMMSS (e.g., 20261114_130003 for 1:00:03 PM on November 14, 2026). Refer to the date man page (using man date) for more formatting options. (Press q to exit the man page). Append the formatted output to a file named formatted.txt.*\n",
    "\n",
    "To complete the third task I began by opening the root of my repository on GitHub Codespaces I then performed the following tasks in the command line:\n",
    "\n",
    "```\n",
    "cd data/timestamps\n",
    "```\n",
    "Navigate to the timestamps directory\n",
    "\n",
    "```\n",
    "man date\n",
    "```\n",
    "This allowed me to see the manual for the date function and decide how to format the date\n",
    "\n",
    "```\n",
    "q\n",
    "```\n",
    "Exit manual page\n",
    "\n",
    "```\n",
    "date +\"%Y%m%d_%H%M%S\" >> formatted.txt\n",
    "```\n",
    "This generates the current date and time in the specified format (YYYYmmdd_HHMMSS) and appends it to a file named formatted.txt. "
   ]
  },
  {
   "cell_type": "markdown",
   "metadata": {},
   "source": [
    "#### Task 4: Create Timestamped Files\n",
    "*Use the touch command to create an empty file with a name in the YYYYmmdd_HHMMSS.txt format. You can achieve this by embedding your date command in backticks ` into the touch command. You should no longer use redirection (>>) in this step.*\n",
    "\n",
    "To complete the fourth task I began by opening the root of my repository on GitHub Codespaces I then performed the following tasks in the command line:\n",
    "\n",
    "```\n",
    "cd data/timestamps\n",
    "```\n",
    "Navigate to the timestamps directory\n",
    "\n",
    "```\n",
    "touch $(date + \"%Y%m%d_%H%M%S\").txt\n",
    "```\n",
    " This command creates an empty file with a name that includes the current date and time in the format YYYYmmdd_HHMMSS.txt.\n",
    "- The $ is used for command substitution, which executes the date command and captures its output.\n",
    "- The date +\"%Y%m%d_%H%M%S\" command generates a timestamp formatted as YYYYmmdd_HHMMSS.\n",
    "- The touch command then uses this formatted timestamp as the filename, creating an empty file named something like 20241215_160000.txt."
   ]
  },
  {
   "cell_type": "markdown",
   "metadata": {},
   "source": [
    "#### Task 5: Download Today's Weather Data\n",
    "*Change to the data/weather directory. Download the latest weather data for the Athenry weather station from Met Eireann using wget. Use the -O < filename > option to save the file as weather.json. The data can be found at this URL:\n",
    "https://prodapi.metweb.ie/observations/athenry/today.*\n",
    "\n",
    "To complete the fifth task I began by opening the root of my repository on GitHub Codespaces I then performed the following tasks in the command line:\n",
    "\n",
    "```\n",
    "cd data/weather\n",
    "```\n",
    "Navigate to the weather directory\n",
    "\n",
    "```\n",
    "wget -O weather.json https://prodapi.metweb.ie/observations/athenry/today.\n",
    "```\n",
    "The 'wget' command is used to download the weather data from the url and th '-O' specifies the name of the file where the data is to be saved, in this case in 'weather.json'"
   ]
  },
  {
   "cell_type": "markdown",
   "metadata": {},
   "source": [
    "#### Task 6: Timestamp the Data\n",
    "*Modify the command from Task 5 to save the downloaded file with a timestamped name in the format YYYYmmdd_HHMMSS.json.*\n",
    "\n",
    "To complete the sixth task I began by opening the root of my repository on GitHub Codespaces I then performed the following tasks in the command line:\n",
    "\n",
    "```\n",
    "cd data/weather\n",
    "```\n",
    "Navigate to the weather directory\n",
    "\n",
    "```\n",
    "wget -O $(date + \"%Y%m%d_%H%M%S\").json https://prodapi.metweb.ie/observations/athenry/today.\n",
    "```\n",
    "This command downloads the latest weather data for the Athenry weather station from Met Éireann using wget. \n",
    "The -O option specifies the output filename. The filename is generated using the current date and time formatted as YYYYmmdd_HHMMSS.json, making sure each download has a unique name based on when it was executed."
   ]
  },
  {
   "cell_type": "markdown",
   "metadata": {},
   "source": [
    "#### Task 7: Write the Script\n",
    "*Write a bash script called weather.sh in the root of your repository. This script should automate the process from Task 6, saving the weather data to the data/weather directory. Make the script executable and test it by running it.*\n",
    "\n",
    "To complete the seventh task I began by navigating to the root of my repository and creating a file called weather.sh\n",
    "In this file I entere dthe following script:\n",
    "```\n",
    "#!/bin/bash\n",
    "\n",
    "wget -O data/weather/$(date +\"%Y%m%d_%H%M%S\").json https://prodapi.metweb.ie/observations/athenry/today\n",
    "```\n",
    "This script takes the command from the previous task and specifies that the location should be in the weather folder\n",
    "\n",
    "```\n",
    "ls -al\n",
    "```\n",
    "In the command line I used this command to investiate the permissions of my files and found that the file weather.sh was not executable.\n",
    "\n",
    "```\n",
    "chmod u+x ./weather.sh\n",
    "```\n",
    "This command makes the file weather.sh executable\n",
    "\n",
    "```\n",
    "./weather.sh\n",
    "```\n",
    "This runs my script in weather.sh. When run this script creates a file with the weather data in a Json file with the name of the file the exact date and time the script was run."
   ]
  },
  {
   "cell_type": "markdown",
   "metadata": {},
   "source": [
    "## Part 2: Weather Analysis"
   ]
  },
  {
   "cell_type": "code",
   "execution_count": 1,
   "metadata": {},
   "outputs": [],
   "source": [
    "#Data Frames\n",
    "import pandas as pd"
   ]
  },
  {
   "cell_type": "code",
   "execution_count": null,
   "metadata": {},
   "outputs": [],
   "source": [
    "df = pd.read_json('data/weather/filename')"
   ]
  },
  {
   "cell_type": "markdown",
   "metadata": {},
   "source": [
    "df.describe\n",
    "\n",
    "Read all of the different data json files into the same one and then do some analysis on it."
   ]
  }
 ],
 "metadata": {
  "kernelspec": {
   "display_name": "Python 3",
   "language": "python",
   "name": "python3"
  },
  "language_info": {
   "codemirror_mode": {
    "name": "ipython",
    "version": 3
   },
   "file_extension": ".py",
   "mimetype": "text/x-python",
   "name": "python",
   "nbconvert_exporter": "python",
   "pygments_lexer": "ipython3",
   "version": "3.12.1"
  }
 },
 "nbformat": 4,
 "nbformat_minor": 2
}
