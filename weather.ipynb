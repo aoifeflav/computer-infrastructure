{
 "cells": [
  {
   "cell_type": "markdown",
   "metadata": {},
   "source": [
    "# Task 8: Weather Analysis\n",
    "### Author: Aoife Flavin\n",
    "\n",
    "The purpose of this notebook is to explain how I completed Tasks 1-7 of the weekly tasks assigned to me in the Module Computer Infrastructure, in Semester 2 of the Higher Diploma in Data Analytics at ATU.\n",
    "\n",
    "In the first half of this notebook I explain how I completed the first 7 weekly tasks assigned to this module.\n",
    "\n",
    "In the second half of this notebook I will use Pandas to read and analyse a file that previousl created during the module which contains weather data for Athenry."
   ]
  },
  {
   "cell_type": "markdown",
   "metadata": {},
   "source": [
    "## Part 1: Task Description"
   ]
  },
  {
   "cell_type": "markdown",
   "metadata": {},
   "source": [
    "#### Task 1: Create Directory Structure\n",
    "*Using the command line, create a directory (that is, a folder) named data at the root of your repository. Inside data, create two subdirectories: timestamps and weather.*\n",
    "\n",
    "To complete the first task I began by opening the root of my repository on GitHub Codespaces I then performed the following tasks in the command line:\n",
    "\n",
    "```\n",
    "mkdir data\n",
    "```\n",
    "This creates a data directory\n",
    "\n",
    "\n",
    "```\n",
    "cd data\n",
    "```\n",
    "Navigate to data directory\n",
    "\n",
    "```\n",
    "mkdir timestamps\n",
    "```\n",
    "Creates the timestamps directory\n",
    "\n",
    "```\n",
    "mkdir weather\n",
    "```\n",
    "Creates the weather directory\n",
    "\n",
    "```\n",
    "cd timestamps\n",
    "```\n",
    "Navigates to the timestamps directory\n",
    "\n",
    "```\n",
    "touch testing.txt\n",
    "```\n",
    "Creates an empty text file in the time stamps directory. This is done because you cannot push an empty directory to GitHub.\n",
    "\n",
    "```\n",
    "cd ..\n",
    "\n",
    "cd weather\n",
    "```\n",
    "Navigate to weather directory\n",
    "\n",
    "```\n",
    "touch testing.txt\n",
    "```\n",
    "Creates an empty text file in the weather directory"
   ]
  },
  {
   "cell_type": "markdown",
   "metadata": {},
   "source": [
    "#### Task 2: Timestamps\n",
    "*Navigate to the data/timestamps directory. Use the date command to output the current date and time, appending the output to a file named now.txt. Make sure to use the >> operator to append (not overwrite) the file. Repeat this step ten times, then use the more command to verify that now.txt has the expected content.*\n",
    "\n",
    "To complete the second task I began by opening the root of my repository on GitHub Codespaces I then performed the following tasks in the command line:\n",
    "\n",
    "```\n",
    "cd data/timestamps\n",
    "```\n",
    "Navigate to the timestamps directory\n",
    "\n",
    "```\n",
    "date >> now.txt\n",
    "```\n",
    "This creates the file now.txt and appends the current date and time to the text file. I ran this 10 times.\n",
    "\n",
    "```\n",
    "more now.txt\n",
    "```\n",
    "I then used the 'more' command to view the contents of now.txt\n"
   ]
  },
  {
   "cell_type": "markdown",
   "metadata": {},
   "source": [
    "#### Task 3: Formatting Timestamps\n",
    "*Run the date command again, but this time format the output using YYYYmmdd_HHMMSS (e.g., 20261114_130003 for 1:00:03 PM on November 14, 2026). Refer to the date man page (using man date) for more formatting options. (Press q to exit the man page). Append the formatted output to a file named formatted.txt.*\n",
    "\n",
    "To complete the third task I began by opening the root of my repository on GitHub Codespaces I then performed the following tasks in the command line:\n",
    "\n",
    "```\n",
    "cd data/timestamps\n",
    "```\n",
    "Navigate to the timestamps directory\n",
    "\n",
    "```\n",
    "man date\n",
    "```\n",
    "This allowed me to see the manual for the date function and decide how to format the date\n",
    "\n",
    "```\n",
    "q\n",
    "```\n",
    "Exit manual page\n",
    "\n",
    "```\n",
    "date +\"%Y%m%d_%H%M%S\" >> formatted.txt\n",
    "```\n",
    "This generates the current date and time in the specified format (YYYYmmdd_HHMMSS) and appends it to a file named formatted.txt. "
   ]
  },
  {
   "cell_type": "markdown",
   "metadata": {},
   "source": [
    "#### Task 4: Create Timestamped Files\n",
    "*Use the touch command to create an empty file with a name in the YYYYmmdd_HHMMSS.txt format. You can achieve this by embedding your date command in backticks ` into the touch command. You should no longer use redirection (>>) in this step.*\n",
    "\n",
    "To complete the fourth task I began by opening the root of my repository on GitHub Codespaces I then performed the following tasks in the command line:\n",
    "\n",
    "```\n",
    "cd data/timestamps\n",
    "```\n",
    "Navigate to the timestamps directory\n",
    "\n",
    "```\n",
    "touch $(date + \"%Y%m%d_%H%M%S\").txt\n",
    "```\n",
    " This command creates an empty file with a name that includes the current date and time in the format YYYYmmdd_HHMMSS.txt.\n",
    "- The $ is used for command substitution, which executes the date command and captures its output.\n",
    "- The date +\"%Y%m%d_%H%M%S\" command generates a timestamp formatted as YYYYmmdd_HHMMSS.\n",
    "- The touch command then uses this formatted timestamp as the filename, creating an empty file named something like 20241215_160000.txt."
   ]
  },
  {
   "cell_type": "markdown",
   "metadata": {},
   "source": [
    "#### Task 5: Download Today's Weather Data\n",
    "*Change to the data/weather directory. Download the latest weather data for the Athenry weather station from Met Eireann using wget. Use the -O < filename > option to save the file as weather.json. The data can be found at this URL:\n",
    "https://prodapi.metweb.ie/observations/athenry/today.*\n",
    "\n",
    "To complete the fifth task I began by opening the root of my repository on GitHub Codespaces I then performed the following tasks in the command line:\n",
    "\n",
    "```\n",
    "cd data/weather\n",
    "```\n",
    "Navigate to the weather directory\n",
    "\n",
    "```\n",
    "wget -O weather.json https://prodapi.metweb.ie/observations/athenry/today.\n",
    "```\n",
    "The 'wget' command is used to download the weather data from the url and th '-O' specifies the name of the file where the data is to be saved, in this case in 'weather.json'"
   ]
  },
  {
   "cell_type": "markdown",
   "metadata": {},
   "source": [
    "#### Task 6: Timestamp the Data\n",
    "*Modify the command from Task 5 to save the downloaded file with a timestamped name in the format YYYYmmdd_HHMMSS.json.*\n",
    "\n",
    "To complete the sixth task I began by opening the root of my repository on GitHub Codespaces I then performed the following tasks in the command line:\n",
    "\n",
    "```\n",
    "cd data/weather\n",
    "```\n",
    "Navigate to the weather directory\n",
    "\n",
    "```\n",
    "wget -O $(date + \"%Y%m%d_%H%M%S\").json https://prodapi.metweb.ie/observations/athenry/today.\n",
    "```\n",
    "This command downloads the latest weather data for the Athenry weather station from Met Éireann using wget. \n",
    "The -O option specifies the output filename. The filename is generated using the current date and time formatted as YYYYmmdd_HHMMSS.json, making sure each download has a unique name based on when it was executed."
   ]
  },
  {
   "cell_type": "markdown",
   "metadata": {},
   "source": [
    "#### Task 7: Write the Script\n",
    "*Write a bash script called weather.sh in the root of your repository. This script should automate the process from Task 6, saving the weather data to the data/weather directory. Make the script executable and test it by running it.*\n",
    "\n",
    "To complete the seventh task I began by navigating to the root of my repository and creating a file called weather.sh\n",
    "In this file I entere dthe following script:\n",
    "```\n",
    "#!/bin/bash\n",
    "\n",
    "wget -O data/weather/$(date +\"%Y%m%d_%H%M%S\").json https://prodapi.metweb.ie/observations/athenry/today\n",
    "```\n",
    "This script takes the command from the previous task and specifies that the location should be in the weather folder\n",
    "\n",
    "```\n",
    "ls -al\n",
    "```\n",
    "In the command line I used this command to investiate the permissions of my files and found that the file weather.sh was not executable.\n",
    "\n",
    "```\n",
    "chmod u+x ./weather.sh\n",
    "```\n",
    "This command makes the file weather.sh executable\n",
    "\n",
    "```\n",
    "./weather.sh\n",
    "```\n",
    "This runs my script in weather.sh. When run this script creates a file with the weather data in a Json file with the name of the file the exact date and time the script was run."
   ]
  },
  {
   "cell_type": "markdown",
   "metadata": {},
   "source": [
    "## Part 2: Weather Analysis"
   ]
  },
  {
   "cell_type": "markdown",
   "metadata": {},
   "source": [
    "### Introduction\n",
    "\n",
    "The data analysed in this notebook was collected and published by Met Éireann. It originates from a JSON file that I retrieved and incorporated into this repository during Tasks 5–7. The file contains a nested list of hourly observations for the current day from the synoptic station located in Athenry, Co. Galway. \n",
    "\n",
    "The file is updated hourly, and all time values are in local time. Each hourly observation includes the following data points:\n",
    "- Station Name\n",
    "- Dry Bulb Temperature (in whole degrees)\n",
    "- Weather Description\n",
    "- Windspeed (in knots)\n",
    "- Cardinal Wind Direction\n",
    "- Relative Humidity (as a percentage)\n",
    "- Rainfall (in millimeters)\n",
    "- MSL Pressure (in millibars)\n",
    "- Day of the Week\n",
    "- Date\n",
    "- Time of Observation"
   ]
  },
  {
   "cell_type": "markdown",
   "metadata": {},
   "source": [
    "##### Import Modules\n",
    "\n",
    "To analyse this data I began by importing the necessary libaries:\n",
    "* Pandas for storing, manipulating and working with structured data.\n",
    "* Glob for finding file paths.\n",
    "* Matplotlib.pyplot for creating plots."
   ]
  },
  {
   "cell_type": "code",
   "execution_count": 1,
   "metadata": {},
   "outputs": [],
   "source": [
    "#Data Frames\n",
    "import pandas as pd\n",
    "\n",
    "import glob\n",
    "\n",
    "import matplotlib.pyplot as plt"
   ]
  },
  {
   "cell_type": "markdown",
   "metadata": {},
   "source": [
    "#### Single Day Data"
   ]
  },
  {
   "cell_type": "markdown",
   "metadata": {},
   "source": [
    "##### Reading and Summarising the DataFrame\n",
    "\n",
    "I first looked at the data from just one json file by using pandas to create a DataFrame and having a look at the first few rows of data and the different data types in the file. \n",
    "\n",
    "This file contained data from 12am to 2pm on Tuesday the 10th of December."
   ]
  },
  {
   "cell_type": "code",
   "execution_count": 2,
   "metadata": {},
   "outputs": [],
   "source": [
    "# read the file as a dataframe\n",
    "df = pd.read_json('data/weather/20241210_142212.json')"
   ]
  },
  {
   "cell_type": "code",
   "execution_count": null,
   "metadata": {},
   "outputs": [
    {
     "data": {
      "text/html": [
       "<div>\n",
       "<style scoped>\n",
       "    .dataframe tbody tr th:only-of-type {\n",
       "        vertical-align: middle;\n",
       "    }\n",
       "\n",
       "    .dataframe tbody tr th {\n",
       "        vertical-align: top;\n",
       "    }\n",
       "\n",
       "    .dataframe thead th {\n",
       "        text-align: right;\n",
       "    }\n",
       "</style>\n",
       "<table border=\"1\" class=\"dataframe\">\n",
       "  <thead>\n",
       "    <tr style=\"text-align: right;\">\n",
       "      <th></th>\n",
       "      <th>name</th>\n",
       "      <th>temperature</th>\n",
       "      <th>symbol</th>\n",
       "      <th>weatherDescription</th>\n",
       "      <th>text</th>\n",
       "      <th>windSpeed</th>\n",
       "      <th>windGust</th>\n",
       "      <th>cardinalWindDirection</th>\n",
       "      <th>windDirection</th>\n",
       "      <th>humidity</th>\n",
       "      <th>rainfall</th>\n",
       "      <th>pressure</th>\n",
       "      <th>dayName</th>\n",
       "      <th>date</th>\n",
       "      <th>reportTime</th>\n",
       "    </tr>\n",
       "  </thead>\n",
       "  <tbody>\n",
       "    <tr>\n",
       "      <th>0</th>\n",
       "      <td>Athenry</td>\n",
       "      <td>1</td>\n",
       "      <td>02n</td>\n",
       "      <td>Fair</td>\n",
       "      <td>\"Fair\"</td>\n",
       "      <td>9</td>\n",
       "      <td>-</td>\n",
       "      <td>NE</td>\n",
       "      <td>45</td>\n",
       "      <td>89</td>\n",
       "      <td>0</td>\n",
       "      <td>1042</td>\n",
       "      <td>Tuesday</td>\n",
       "      <td>2024-10-12</td>\n",
       "      <td>00:00</td>\n",
       "    </tr>\n",
       "    <tr>\n",
       "      <th>1</th>\n",
       "      <td>Athenry</td>\n",
       "      <td>1</td>\n",
       "      <td>04n</td>\n",
       "      <td>Cloudy</td>\n",
       "      <td>\"Cloudy\"</td>\n",
       "      <td>7</td>\n",
       "      <td>-</td>\n",
       "      <td>NE</td>\n",
       "      <td>45</td>\n",
       "      <td>87</td>\n",
       "      <td>0</td>\n",
       "      <td>1042</td>\n",
       "      <td>Tuesday</td>\n",
       "      <td>2024-10-12</td>\n",
       "      <td>01:00</td>\n",
       "    </tr>\n",
       "    <tr>\n",
       "      <th>2</th>\n",
       "      <td>Athenry</td>\n",
       "      <td>2</td>\n",
       "      <td>02n</td>\n",
       "      <td>Fair</td>\n",
       "      <td>\"Fair\"</td>\n",
       "      <td>15</td>\n",
       "      <td>-</td>\n",
       "      <td>E</td>\n",
       "      <td>90</td>\n",
       "      <td>87</td>\n",
       "      <td>0</td>\n",
       "      <td>1041</td>\n",
       "      <td>Tuesday</td>\n",
       "      <td>2024-10-12</td>\n",
       "      <td>02:00</td>\n",
       "    </tr>\n",
       "    <tr>\n",
       "      <th>3</th>\n",
       "      <td>Athenry</td>\n",
       "      <td>-1</td>\n",
       "      <td>02n</td>\n",
       "      <td>Fair</td>\n",
       "      <td>\"Fair\"</td>\n",
       "      <td>2</td>\n",
       "      <td>-</td>\n",
       "      <td>NW</td>\n",
       "      <td>315</td>\n",
       "      <td>92</td>\n",
       "      <td>0</td>\n",
       "      <td>1041</td>\n",
       "      <td>Tuesday</td>\n",
       "      <td>2024-10-12</td>\n",
       "      <td>03:00</td>\n",
       "    </tr>\n",
       "    <tr>\n",
       "      <th>4</th>\n",
       "      <td>Athenry</td>\n",
       "      <td>-3</td>\n",
       "      <td>02n</td>\n",
       "      <td>Fair</td>\n",
       "      <td>\"Fair\"</td>\n",
       "      <td>2</td>\n",
       "      <td>-</td>\n",
       "      <td>S</td>\n",
       "      <td>180</td>\n",
       "      <td>93</td>\n",
       "      <td>0</td>\n",
       "      <td>1041</td>\n",
       "      <td>Tuesday</td>\n",
       "      <td>2024-10-12</td>\n",
       "      <td>04:00</td>\n",
       "    </tr>\n",
       "  </tbody>\n",
       "</table>\n",
       "</div>"
      ],
      "text/plain": [
       "      name  temperature symbol weatherDescription      text  windSpeed  \\\n",
       "0  Athenry            1    02n               Fair    \"Fair\"          9   \n",
       "1  Athenry            1    04n             Cloudy  \"Cloudy\"          7   \n",
       "2  Athenry            2    02n               Fair    \"Fair\"         15   \n",
       "3  Athenry           -1    02n               Fair    \"Fair\"          2   \n",
       "4  Athenry           -3    02n               Fair    \"Fair\"          2   \n",
       "\n",
       "  windGust cardinalWindDirection  windDirection  humidity  rainfall  pressure  \\\n",
       "0        -                    NE             45        89         0      1042   \n",
       "1        -                    NE             45        87         0      1042   \n",
       "2        -                     E             90        87         0      1041   \n",
       "3        -                    NW            315        92         0      1041   \n",
       "4        -                     S            180        93         0      1041   \n",
       "\n",
       "   dayName       date reportTime  \n",
       "0  Tuesday 2024-10-12      00:00  \n",
       "1  Tuesday 2024-10-12      01:00  \n",
       "2  Tuesday 2024-10-12      02:00  \n",
       "3  Tuesday 2024-10-12      03:00  \n",
       "4  Tuesday 2024-10-12      04:00  "
      ]
     },
     "execution_count": 3,
     "metadata": {},
     "output_type": "execute_result"
    }
   ],
   "source": [
    "#Look at the first few rows of data\n",
    "df.head()"
   ]
  },
  {
   "cell_type": "code",
   "execution_count": null,
   "metadata": {},
   "outputs": [
    {
     "name": "stdout",
     "output_type": "stream",
     "text": [
      "<class 'pandas.core.frame.DataFrame'>\n",
      "RangeIndex: 15 entries, 0 to 14\n",
      "Data columns (total 15 columns):\n",
      " #   Column                 Non-Null Count  Dtype         \n",
      "---  ------                 --------------  -----         \n",
      " 0   name                   15 non-null     object        \n",
      " 1   temperature            15 non-null     int64         \n",
      " 2   symbol                 15 non-null     object        \n",
      " 3   weatherDescription     15 non-null     object        \n",
      " 4   text                   15 non-null     object        \n",
      " 5   windSpeed              15 non-null     int64         \n",
      " 6   windGust               15 non-null     object        \n",
      " 7   cardinalWindDirection  15 non-null     object        \n",
      " 8   windDirection          15 non-null     int64         \n",
      " 9   humidity               15 non-null     int64         \n",
      " 10  rainfall               15 non-null     int64         \n",
      " 11  pressure               15 non-null     int64         \n",
      " 12  dayName                15 non-null     object        \n",
      " 13  date                   15 non-null     datetime64[ns]\n",
      " 14  reportTime             15 non-null     object        \n",
      "dtypes: datetime64[ns](1), int64(6), object(8)\n",
      "memory usage: 1.9+ KB\n"
     ]
    }
   ],
   "source": [
    "# Summary of the dataframe\n",
    "df.info()"
   ]
  },
  {
   "cell_type": "markdown",
   "metadata": {},
   "source": [
    "##### Calculating Averages\n",
    "\n",
    "I then calculated what the average temperature, humidity and pressure were throughout this day.\n",
    "\n",
    "The average temperature was 10.77 °C\n",
    "\n",
    "The average humidity was 85.15%\n",
    "\n",
    "The average pressure was 1027 Millibars"
   ]
  },
  {
   "cell_type": "code",
   "execution_count": 5,
   "metadata": {},
   "outputs": [
    {
     "name": "stdout",
     "output_type": "stream",
     "text": [
      "Average Temperature: -0.53\n",
      "Average Humidity: 91.07\n",
      "Average Pressure: 1040.73\n"
     ]
    }
   ],
   "source": [
    "# Average temperature\n",
    "average_temperature = df['temperature'].mean()\n",
    "print(f\"Average Temperature: {average_temperature:.2f}\")\n",
    "\n",
    "# Average humidity\n",
    "average_humidity = df['humidity'].mean()\n",
    "print(f\"Average Humidity: {average_humidity:.2f}\")\n",
    "\n",
    "# Average pressure\n",
    "average_pressure = df['pressure'].mean()\n",
    "print(f\"Average Pressure: {average_pressure:.2f}\")"
   ]
  },
  {
   "cell_type": "markdown",
   "metadata": {},
   "source": [
    "##### Wind Speed Over Time\n",
    "\n",
    "I created a line plot to show the changes in windspeed throughout the day. From the plot it can be seen that the windiest part of the day was at 2am, with the wind slowing down from 3am to 8am, but picking back up after that."
   ]
  },
  {
   "cell_type": "code",
   "execution_count": 6,
   "metadata": {},
   "outputs": [
    {
     "data": {
      "image/png": "[encoded data removed]",
      "text/plain": [
       "<Figure size 1000x600 with 1 Axes>"
      ]
     },
     "metadata": {},
     "output_type": "display_data"
    }
   ],
   "source": [
    "# Convert 'reportTime' to strings for plotting\n",
    "df['reportTime'] = df['reportTime'].astype(str)\n",
    "\n",
    "# Convert 'windSpeed' to numeric, if not already\n",
    "df['windSpeed'] = pd.to_numeric(df['windSpeed'])\n",
    "\n",
    "# Plot the data\n",
    "plt.figure(figsize=(10, 6))\n",
    "plt.plot(df['reportTime'], df['windSpeed'], marker='o', linestyle='-')\n",
    "plt.title('Wind Speed Over Time')\n",
    "plt.xlabel('Time')\n",
    "plt.ylabel('Wind Speed (units)')\n",
    "plt.xticks(rotation=45)\n",
    "plt.grid(True)\n",
    "plt.tight_layout()\n",
    "plt.show()"
   ]
  },
  {
   "cell_type": "markdown",
   "metadata": {},
   "source": [
    "##### Temperature Over Time\n",
    "\n",
    "I created a line plot to visualise the temperature trends throughout the day. The plot reveals a noticeable drop in temperature during the early hours of the morning, reaching its lowest point of -4.5°C around 7–8 AM. Following this, the temperature gradually rises, peaking at 4°C by 2 PM."
   ]
  },
  {
   "cell_type": "code",
   "execution_count": 7,
   "metadata": {},
   "outputs": [
    {
     "data": {
      "image/png": "[encoded data removed]",
      "text/plain": [
       "<Figure size 1000x600 with 1 Axes>"
      ]
     },
     "metadata": {},
     "output_type": "display_data"
    }
   ],
   "source": [
    "# Convert 'temperature' to numeric, if not already\n",
    "df['temperature'] = pd.to_numeric(df['temperature'])\n",
    "\n",
    "# Plot the data\n",
    "plt.figure(figsize=(10, 6))\n",
    "plt.plot(df['reportTime'], df['temperature'], marker='o', linestyle='-')\n",
    "plt.title('Temperature Over Time')\n",
    "plt.xlabel('Time')\n",
    "plt.ylabel('Temperature (C)')\n",
    "plt.xticks(rotation=45)\n",
    "plt.grid(True)\n",
    "plt.tight_layout()\n",
    "plt.show()"
   ]
  },
  {
   "cell_type": "markdown",
   "metadata": {},
   "source": [
    "#### Consolidated Data"
   ]
  },
  {
   "cell_type": "markdown",
   "metadata": {},
   "source": [
    "##### Read all files into a dataframe\n",
    "\n",
    "After analszing the data from a single day, I decided to compile weather data collected from multiple points in time to gain deeper insights. To achieve this, I used the glob module to retrieve a list of all JSON files in my weather folder and iterated through each file to read them into a single DataFrame for analysis."
   ]
  },
  {
   "cell_type": "code",
   "execution_count": 8,
   "metadata": {},
   "outputs": [
    {
     "name": "stdout",
     "output_type": "stream",
     "text": [
      "      name  temperature symbol weatherDescription              text  \\\n",
      "0  Athenry           13    05n       Rain showers     \"Rain shower\"   \n",
      "1  Athenry           13    05n       Rain showers     \"Rain shower\"   \n",
      "2  Athenry           12    05n       Rain showers     \"Rain shower\"   \n",
      "3  Athenry           12    05n       Rain showers     \"Rain shower\"   \n",
      "4  Athenry           12    09n               Rain  \"Moderate rain \"   \n",
      "\n",
      "   windSpeed windGust cardinalWindDirection  windDirection  humidity  \\\n",
      "0         22        -                    SW            225        96   \n",
      "1         30        -                    SW            225        94   \n",
      "2         22       44                    SW            225        96   \n",
      "3         26       46                    SW            225        97   \n",
      "4         28        -                    NW            315        95   \n",
      "\n",
      "   rainfall  pressure    dayName       date reportTime  \n",
      "0       0.3       993  Wednesday 2024-12-18      00:00  \n",
      "1       0.7       992  Wednesday 2024-12-18      01:00  \n",
      "2       0.8       991  Wednesday 2024-12-18      02:00  \n",
      "3       0.8       991  Wednesday 2024-12-18      03:00  \n",
      "4       1.6       993  Wednesday 2024-12-18      04:00  \n"
     ]
    }
   ],
   "source": [
    "# Define the directory containing the JSON files\n",
    "file_path = 'data/weather/*.json'\n",
    "\n",
    "# Use glob to get a list of all JSON files in the directory\n",
    "json_files = glob.glob(file_path)\n",
    "\n",
    "# Initialize an empty list to store individual DataFrames\n",
    "dataframes = []\n",
    "\n",
    "# Loop through each file and read it into a DataFrame\n",
    "for file in json_files:\n",
    "    df = pd.read_json(file)  # Read the JSON file into a DataFrame\n",
    "    dataframes.append(df)    # Append the DataFrame to the list\n",
    "\n",
    "# Concatenate all DataFrames into a single DataFrame\n",
    "combined_df = pd.concat(dataframes, ignore_index=True)\n",
    "\n",
    "# Display the first few rows of the combined DataFrame\n",
    "print(combined_df.head())"
   ]
  },
  {
   "cell_type": "markdown",
   "metadata": {},
   "source": [
    "##### Analyse the Data\n",
    "\n",
    "Since some of the files were added to my repository before I established a workflow that generates a new weather file at 10 AM every day, the data includes entries from inconsistent dates and times. To address this, I counted the occurrences of each date to determine how many lines of data I have for each day."
   ]
  },
  {
   "cell_type": "code",
   "execution_count": 9,
   "metadata": {},
   "outputs": [
    {
     "name": "stdout",
     "output_type": "stream",
     "text": [
      "date\n",
      "2024-10-12    30\n",
      "2024-12-16    22\n",
      "2024-12-17    20\n",
      "2024-12-18    19\n",
      "2024-12-15    16\n",
      "Name: count, dtype: int64\n"
     ]
    }
   ],
   "source": [
    "# Count each day\n",
    "\n",
    "print(combined_df['date'].value_counts())"
   ]
  },
  {
   "cell_type": "markdown",
   "metadata": {},
   "source": [
    "I used df.describe to generate some descriptive statistics about the data."
   ]
  },
  {
   "cell_type": "code",
   "execution_count": 10,
   "metadata": {},
   "outputs": [
    {
     "data": {
      "text/html": [
       "<div>\n",
       "<style scoped>\n",
       "    .dataframe tbody tr th:only-of-type {\n",
       "        vertical-align: middle;\n",
       "    }\n",
       "\n",
       "    .dataframe tbody tr th {\n",
       "        vertical-align: top;\n",
       "    }\n",
       "\n",
       "    .dataframe thead th {\n",
       "        text-align: right;\n",
       "    }\n",
       "</style>\n",
       "<table border=\"1\" class=\"dataframe\">\n",
       "  <thead>\n",
       "    <tr style=\"text-align: right;\">\n",
       "      <th></th>\n",
       "      <th>temperature</th>\n",
       "      <th>windSpeed</th>\n",
       "      <th>windDirection</th>\n",
       "      <th>humidity</th>\n",
       "      <th>rainfall</th>\n",
       "      <th>pressure</th>\n",
       "      <th>date</th>\n",
       "    </tr>\n",
       "  </thead>\n",
       "  <tbody>\n",
       "    <tr>\n",
       "      <th>count</th>\n",
       "      <td>107.000000</td>\n",
       "      <td>107.000000</td>\n",
       "      <td>107.000000</td>\n",
       "      <td>107.000000</td>\n",
       "      <td>107.000000</td>\n",
       "      <td>107.000000</td>\n",
       "      <td>107</td>\n",
       "    </tr>\n",
       "    <tr>\n",
       "      <th>mean</th>\n",
       "      <td>7.485981</td>\n",
       "      <td>14.317757</td>\n",
       "      <td>179.158879</td>\n",
       "      <td>90.710280</td>\n",
       "      <td>0.140654</td>\n",
       "      <td>1023.532710</td>\n",
       "      <td>2024-11-28 04:02:14.579439360</td>\n",
       "    </tr>\n",
       "    <tr>\n",
       "      <th>min</th>\n",
       "      <td>-5.000000</td>\n",
       "      <td>2.000000</td>\n",
       "      <td>0.000000</td>\n",
       "      <td>80.000000</td>\n",
       "      <td>0.000000</td>\n",
       "      <td>991.000000</td>\n",
       "      <td>2024-10-12 00:00:00</td>\n",
       "    </tr>\n",
       "    <tr>\n",
       "      <th>25%</th>\n",
       "      <td>4.000000</td>\n",
       "      <td>7.000000</td>\n",
       "      <td>135.000000</td>\n",
       "      <td>86.500000</td>\n",
       "      <td>0.000000</td>\n",
       "      <td>1016.000000</td>\n",
       "      <td>2024-10-12 00:00:00</td>\n",
       "    </tr>\n",
       "    <tr>\n",
       "      <th>50%</th>\n",
       "      <td>10.000000</td>\n",
       "      <td>15.000000</td>\n",
       "      <td>225.000000</td>\n",
       "      <td>92.000000</td>\n",
       "      <td>0.000000</td>\n",
       "      <td>1027.000000</td>\n",
       "      <td>2024-12-16 00:00:00</td>\n",
       "    </tr>\n",
       "    <tr>\n",
       "      <th>75%</th>\n",
       "      <td>11.000000</td>\n",
       "      <td>20.000000</td>\n",
       "      <td>247.500000</td>\n",
       "      <td>96.000000</td>\n",
       "      <td>0.100000</td>\n",
       "      <td>1040.000000</td>\n",
       "      <td>2024-12-17 00:00:00</td>\n",
       "    </tr>\n",
       "    <tr>\n",
       "      <th>max</th>\n",
       "      <td>13.000000</td>\n",
       "      <td>30.000000</td>\n",
       "      <td>315.000000</td>\n",
       "      <td>99.000000</td>\n",
       "      <td>1.900000</td>\n",
       "      <td>1042.000000</td>\n",
       "      <td>2024-12-18 00:00:00</td>\n",
       "    </tr>\n",
       "    <tr>\n",
       "      <th>std</th>\n",
       "      <td>5.377038</td>\n",
       "      <td>7.309335</td>\n",
       "      <td>91.260786</td>\n",
       "      <td>5.572861</td>\n",
       "      <td>0.372949</td>\n",
       "      <td>15.494563</td>\n",
       "      <td>NaN</td>\n",
       "    </tr>\n",
       "  </tbody>\n",
       "</table>\n",
       "</div>"
      ],
      "text/plain": [
       "       temperature   windSpeed  windDirection    humidity    rainfall  \\\n",
       "count   107.000000  107.000000     107.000000  107.000000  107.000000   \n",
       "mean      7.485981   14.317757     179.158879   90.710280    0.140654   \n",
       "min      -5.000000    2.000000       0.000000   80.000000    0.000000   \n",
       "25%       4.000000    7.000000     135.000000   86.500000    0.000000   \n",
       "50%      10.000000   15.000000     225.000000   92.000000    0.000000   \n",
       "75%      11.000000   20.000000     247.500000   96.000000    0.100000   \n",
       "max      13.000000   30.000000     315.000000   99.000000    1.900000   \n",
       "std       5.377038    7.309335      91.260786    5.572861    0.372949   \n",
       "\n",
       "          pressure                           date  \n",
       "count   107.000000                            107  \n",
       "mean   1023.532710  2024-11-28 04:02:14.579439360  \n",
       "min     991.000000            2024-10-12 00:00:00  \n",
       "25%    1016.000000            2024-10-12 00:00:00  \n",
       "50%    1027.000000            2024-12-16 00:00:00  \n",
       "75%    1040.000000            2024-12-17 00:00:00  \n",
       "max    1042.000000            2024-12-18 00:00:00  \n",
       "std      15.494563                            NaN  "
      ]
     },
     "execution_count": 10,
     "metadata": {},
     "output_type": "execute_result"
    }
   ],
   "source": [
    "# Summarys statistics\n",
    "combined_df.describe()"
   ]
  },
  {
   "cell_type": "markdown",
   "metadata": {},
   "source": [
    "##### Count Unique Weather Descriptions\n",
    "\n",
    "I then counted the occurrences of each unique weather description in the dataset. (It looks like it's pretty cloudy in Athenry)"
   ]
  },
  {
   "cell_type": "code",
   "execution_count": 11,
   "metadata": {},
   "outputs": [
    {
     "name": "stdout",
     "output_type": "stream",
     "text": [
      "weatherDescription\n",
      "Cloudy                47\n",
      "Fair                  22\n",
      "Rain showers          16\n",
      "Fog / Mist             7\n",
      "Light rain             7\n",
      "Rain                   4\n",
      "Light rain showers     4\n",
      "Name: count, dtype: int64\n"
     ]
    }
   ],
   "source": [
    "# Count each weather description\n",
    "print(combined_df['weatherDescription'].value_counts())"
   ]
  },
  {
   "cell_type": "markdown",
   "metadata": {},
   "source": [
    "##### Investigate Correlation Between Variables\n",
    "\n",
    "I wanted to investigate whether there is a correlation between humidity and temperature, so I created a scatter plot to visualize the relationship. Based on the scatter plot, there doesn't appear to be a clear or obvious correlation between the two variables. However, this lack of correlation could be due to the limited amount of data available. As more datais gathered over time, a clearer pattern might emerge."
   ]
  },
  {
   "cell_type": "code",
   "execution_count": 12,
   "metadata": {},
   "outputs": [
    {
     "data": {
      "image/png": "[encoded data removed]",
      "text/plain": [
       "<Figure size 800x600 with 1 Axes>"
      ]
     },
     "metadata": {},
     "output_type": "display_data"
    }
   ],
   "source": [
    "# Create a scatter plot to visualize the correlation between humidity and temperature\n",
    "plt.figure(figsize=(8, 6))\n",
    "plt.scatter(combined_df['humidity'], combined_df['temperature'], color='orange', alpha=0.6, s=80, edgecolor='black', label='Data Points')\n",
    "plt.title('Scatter Plot: Humidity vs Temperature')\n",
    "plt.xlabel('Humidity')\n",
    "plt.ylabel('Temperature')\n",
    "plt.grid(True)\n",
    "plt.show()"
   ]
  },
  {
   "cell_type": "markdown",
   "metadata": {},
   "source": [
    "End"
   ]
  }
 ],
 "metadata": {
  "kernelspec": {
   "display_name": "Python 3",
   "language": "python",
   "name": "python3"
  },
  "language_info": {
   "codemirror_mode": {
    "name": "ipython",
    "version": 3
   },
   "file_extension": ".py",
   "mimetype": "text/x-python",
   "name": "python",
   "nbconvert_exporter": "python",
   "pygments_lexer": "ipython3",
   "version": "3.12.1"
  }
 },
 "nbformat": 4,
 "nbformat_minor": 2
}
